{
 "cells": [
  {
   "cell_type": "code",
   "execution_count": 1,
   "metadata": {},
   "outputs": [],
   "source": [
    "from app import nba_players, nba_statistics, nba_charts, nba_analysis\n",
    "import matplotlib as mpl\n",
    "import matplotlib.pyplot as plt\n",
    "import pandas as pd"
   ]
  },
  {
   "cell_type": "code",
   "execution_count": 4,
   "metadata": {},
   "outputs": [],
   "source": [
    "stats=nba_statistics.get_player_statistics(nba_players.get_player_by_name('kyrie'), num_games=30)\n",
    "# nba_statistics.get_player_statistics(nba_players.get_player_by_name('kyrie'), personal_fouls=4, num_games=30, win=True)\n",
    "# nba_charts.plot_game_logs(stats, cats=['PTS'])\n",
    "# nba_analysis.get_cats_probability(stats)"
   ]
  },
  {
   "cell_type": "code",
   "execution_count": null,
   "metadata": {},
   "outputs": [],
   "source": [
    "nba_analysis.get_probability_pts_reb_ast(stats, ast=True, pts=True, total=16.5)"
   ]
  },
  {
   "cell_type": "code",
   "execution_count": null,
   "metadata": {},
   "outputs": [],
   "source": [
    "nba_statistics.get_player_statistics(nba_players.get_player_by_name('kyrie'), pf=4, num_games=30, win=True)\n",
    "# data = nba_statistics.get_player_statistics(nba_players.get_player_by_name('kyrie'), personal_fouls=4, num_games=30, win=True)"
   ]
  },
  {
   "cell_type": "code",
   "execution_count": 5,
   "metadata": {},
   "outputs": [],
   "source": [
    "nba_charts.plot_game_logs_barchart(stats)"
   ]
  }
 ],
 "metadata": {
  "kernelspec": {
   "display_name": ".venv",
   "language": "python",
   "name": "python3"
  },
  "language_info": {
   "codemirror_mode": {
    "name": "ipython",
    "version": 3
   },
   "file_extension": ".py",
   "mimetype": "text/x-python",
   "name": "python",
   "nbconvert_exporter": "python",
   "pygments_lexer": "ipython3",
   "version": "3.9.4"
  }
 },
 "nbformat": 4,
 "nbformat_minor": 2
}
