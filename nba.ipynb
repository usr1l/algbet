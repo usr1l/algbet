{
 "cells": [
  {
   "cell_type": "code",
   "execution_count": 1,
   "metadata": {},
   "outputs": [],
   "source": [
    "from app import nba_players, nba_statistics, nba_charts, nba_analysis"
   ]
  },
  {
   "cell_type": "code",
   "execution_count": 2,
   "metadata": {},
   "outputs": [],
   "source": [
    "stats=nba_statistics.get_player_statistics(nba_players.get_player_by_name('kyrie'), personal_fouls=4, num_games=20, win=True)\n",
    "# nba_statistics.get_player_statistics(nba_players.get_player_by_name('kyrie'), personal_fouls=4, num_games=30, win=True)\n",
    "nba_charts.plot_game_logs(stats, cats=['PTS'])"
   ]
  },
  {
   "cell_type": "code",
   "execution_count": null,
   "metadata": {},
   "outputs": [],
   "source": [
    "nba_statistics.get_player_statistics(nba_players.get_player_by_name('kyrie'), personal_fouls=4, num_games=30, win=True)"
   ]
  }
 ],
 "metadata": {
  "kernelspec": {
   "display_name": ".venv",
   "language": "python",
   "name": "python3"
  },
  "language_info": {
   "codemirror_mode": {
    "name": "ipython",
    "version": 3
   },
   "file_extension": ".py",
   "mimetype": "text/x-python",
   "name": "python",
   "nbconvert_exporter": "python",
   "pygments_lexer": "ipython3",
   "version": "3.9.4"
  }
 },
 "nbformat": 4,
 "nbformat_minor": 2
}
