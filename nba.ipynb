{
 "cells": [
  {
   "cell_type": "code",
   "execution_count": 1,
   "metadata": {},
   "outputs": [],
   "source": [
    "from app import nba_players, nba_statistics, nba_charts, nba_analysis\n",
    "import matplotlib as mpl\n",
    "import matplotlib.pyplot as plt\n",
    "import pandas as pd\n",
    "\n",
    "def fn(player, matchup=\"\",\n",
    "            num_games=10,\n",
    "            home=False,\n",
    "            away=False,\n",
    "            ast=None,\n",
    "            reb=None,\n",
    "            pts=None,\n",
    "            stl=None,\n",
    "            blk=None,\n",
    "            pf=None,\n",
    "            threes_made=None,\n",
    "            triple_double=None,\n",
    "            double_double=None,\n",
    "            win=None):\n",
    "  return nba_statistics.get_player_statistics(\n",
    "    nba_players.get_player_by_name(player),\n",
    "    matchup=nba_players.get_team_abbreviation_by_name(matchup),\n",
    "            num_games=num_games,\n",
    "            home=home,\n",
    "            away=away,\n",
    "            ast=ast,\n",
    "            reb=reb,\n",
    "            pts=pts,\n",
    "            stl=stl,\n",
    "            blk=blk,\n",
    "            pf=pf,\n",
    "            threes_made=threes_made,\n",
    "            triple_double=triple_double,\n",
    "            double_double=double_double,\n",
    "            win=win\n",
    "  )"
   ]
  },
  {
   "cell_type": "code",
   "execution_count": null,
   "metadata": {},
   "outputs": [],
   "source": [
    "def fn(player, matchup=\"\",\n",
    "            num_games=10,\n",
    "            home=False,\n",
    "            away=False,\n",
    "            ast=None,\n",
    "            reb=None,\n",
    "            pts=None,\n",
    "            stl=None,\n",
    "            blk=None,\n",
    "            pf=None,\n",
    "            threes_made=None,\n",
    "            triple_double=None,\n",
    "            double_double=None,\n",
    "            win=None):\n",
    "  return nba_statistics.get_player_statistics(\n",
    "    nba_players.get_player_by_name(player),\n",
    "    matchup=nba_players.get_team_abbreviation_by_name(matchup),\n",
    "            num_games=num_games,\n",
    "            home=home,\n",
    "            away=away,\n",
    "            ast=ast,\n",
    "            reb=reb,\n",
    "            pts=pts,\n",
    "            stl=stl,\n",
    "            blk=blk,\n",
    "            pf=pf,\n",
    "            threes_made=threes_made,\n",
    "            triple_double=triple_double,\n",
    "            double_double=double_double,\n",
    "            win=win\n",
    "  )"
   ]
  },
  {
   "cell_type": "code",
   "execution_count": null,
   "metadata": {},
   "outputs": [],
   "source": [
    "nba_analysis.get_cat_averages()\n",
    "nba_analysis.get_cats_probability()\n",
    "nba_analysis.get_combination_probability()\n",
    "nba_analysis.get_probability_pts_reb_ast()\n",
    "nba_analysis.get_probability_stl_blk()\n"
   ]
  },
  {
   "cell_type": "code",
   "execution_count": null,
   "metadata": {},
   "outputs": [],
   "source": [
    "jones=fn('derrick jones jr.', num_games=50)\n",
    "nba_analysis.get_cats_probability(jones, pts=10)"
   ]
  },
  {
   "cell_type": "code",
   "execution_count": 5,
   "metadata": {},
   "outputs": [],
   "source": [
    "player_1 = {\n",
    "  'ast': 0,\n",
    "  'reb': 0,\n",
    "  'pts': 0,\n",
    "  'total': 20\n",
    "}\n",
    "\n",
    "player_2 = {\n",
    "  'ast': 0,\n",
    "  'reb': 0,\n",
    "  'pts': 0,\n",
    "  'total': 20\n",
    "}\n",
    "\n",
    "player_3 = {\n",
    "  'ast': 0,\n",
    "  'reb': 0,\n",
    "  'pts': 0,\n",
    "  'total': None\n",
    "}\n",
    "\n",
    "NUM_GAMES = 25\n",
    "\n",
    "luka=fn('luka', num_games=NUM_GAMES)\n",
    "kyrie=fn('kyrie', num_games=NUM_GAMES)\n",
    "pj=fn('p.j. washington', num_games=NUM_GAMES)\n",
    "gafford=fn('gafford', num_games=NUM_GAMES)\n",
    "jones=fn('derrick jones jr.', num_games=NUM_GAMES)\n",
    "\n",
    "\n",
    "\n",
    "edwards = fn('anthony edwards', num_games=NUM_GAMES)\n",
    "conley = fn('conley', home=True, num_games=NUM_GAMES)\n",
    "towns = fn('karl-anthony towns', home=True, num_games=NUM_GAMES)\n",
    "\n",
    "\n",
    "# nba_analysis.get_combination_probability(luka, edwards, player1={'total': 45}, player2={'total': 43})\n",
    "# nba_analysis.get_probability_pts_reb_ast(luka, total=45, pts=True, reb=True, ast=True)"
   ]
  },
  {
   "cell_type": "code",
   "execution_count": 3,
   "metadata": {},
   "outputs": [
    {
     "data": {
      "text/plain": [
       "{'FG3M': 2.4, 'PTS': 12.9, 'REB': 3.9, 'AST': 5.4, 'STL': 1.1, 'BLK': 0.4}"
      ]
     },
     "execution_count": 3,
     "metadata": {},
     "output_type": "execute_result"
    }
   ],
   "source": [
    "# towns = fn('towns', home=True, num_games=20)\n",
    "conley = fn('conley', home=True, num_games=20)\n",
    "\n",
    "nba_analysis.get_cat_averages(conley)"
   ]
  },
  {
   "cell_type": "code",
   "execution_count": null,
   "metadata": {},
   "outputs": [],
   "source": [
    "nba_analysis.get_probability_pts_reb_ast(luka, pts=True, reb=True, ast=True, total=45)"
   ]
  },
  {
   "cell_type": "code",
   "execution_count": null,
   "metadata": {},
   "outputs": [],
   "source": [
    "# stats_3=nba_statistics.get_player_statistics(nba_players.get_player_by_name('kyrie'), num_games=30)\n",
    "nba_statistics.get_player_statistics(nba_players.get_player_by_name('kyrie'), num_games=30)"
   ]
  },
  {
   "cell_type": "code",
   "execution_count": null,
   "metadata": {},
   "outputs": [],
   "source": [
    "nba_analysis.get_cats_probability(stats, ast=5)"
   ]
  },
  {
   "cell_type": "code",
   "execution_count": null,
   "metadata": {},
   "outputs": [],
   "source": [
    "nba_analysis.get_probability_pts_reb_ast(stats, ast=True, pts=True, total=22.5)"
   ]
  },
  {
   "cell_type": "code",
   "execution_count": null,
   "metadata": {},
   "outputs": [],
   "source": [
    "nba_statistics.get_player_statistics(nba_players.get_player_by_name('kyrie'), pf=4, num_games=30, win=True)\n",
    "# data = nba_statistics.get_player_statistics(nba_players.get_player_by_name('kyrie'), personal_fouls=4, num_games=30, win=True)"
   ]
  },
  {
   "cell_type": "code",
   "execution_count": null,
   "metadata": {},
   "outputs": [],
   "source": [
    "nba_charts.plot_game_logs_barchart(stats)"
   ]
  }
 ],
 "metadata": {
  "kernelspec": {
   "display_name": ".venv",
   "language": "python",
   "name": "python3"
  },
  "language_info": {
   "codemirror_mode": {
    "name": "ipython",
    "version": 3
   },
   "file_extension": ".py",
   "mimetype": "text/x-python",
   "name": "python",
   "nbconvert_exporter": "python",
   "pygments_lexer": "ipython3",
   "version": "3.9.4"
  }
 },
 "nbformat": 4,
 "nbformat_minor": 2
}
