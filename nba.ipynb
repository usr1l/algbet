{
 "cells": [
  {
   "cell_type": "code",
   "execution_count": 2,
   "metadata": {},
   "outputs": [
    {
     "name": "stdout",
     "output_type": "stream",
     "text": [
      "Index(['SEASON_ID', 'Player_ID', 'Game_ID', 'GAME_DATE', 'MATCHUP', 'WL',\n",
      "       'MIN', 'FGM', 'FGA', 'FG_PCT', 'FG3M', 'FG3A', 'FG3_PCT', 'FTM', 'FTA',\n",
      "       'FT_PCT', 'OREB', 'DREB', 'REB', 'AST', 'STL', 'BLK', 'TOV', 'PF',\n",
      "       'PTS', 'PLUS_MINUS', 'VIDEO_AVAILABLE'],\n",
      "      dtype='object')\n"
     ]
    }
   ],
   "source": [
    "from app import STATISTICS, CURRENT_SEASON_PLAYERS\n",
    "stats = STATISTICS.get_player_games_last_n_seasons_against_team(\n",
    "  CURRENT_SEASON_PLAYERS.get_player_by_name('pascal siakam'),\n",
    "  matchup=CURRENT_SEASON_PLAYERS.get_team_abbreviation_by_name('nuggets'),\n",
    "  num_games=30,\n",
    "  away=True,\n",
    "  home=False)\n",
    "print(stats.columns)\n",
    "# STATISTICS.get_player_games_last_n_seasons_against_team(\n",
    "#   CURRENT_SEASON_PLAYERS.get_player_by_name('pascal siakam'),\n",
    "#   matchup=CURRENT_SEASON_PLAYERS.get_team_abbreviation_by_name('nuggets'),\n",
    "#   num_games=30,\n",
    "#   away=True,\n",
    "#   home=False).to_csv('csv_file.csv')"
   ]
  },
  {
   "cell_type": "code",
   "execution_count": 5,
   "metadata": {},
   "outputs": [
    {
     "name": "stderr",
     "output_type": "stream",
     "text": [
      "/tmp/ipykernel_499511/3142959283.py:11: UserWarning: Could not infer format, so each element will be parsed individually, falling back to `dateutil`. To ensure parsing is consistent and as-expected, please specify a format.\n",
      "  stats.index = pd.to_datetime(stats.index)\n"
     ]
    }
   ],
   "source": [
    "import pandas as pd\n",
    "import matplotlib\n",
    "# matplotlib.use('Agg')\n",
    "from matplotlib import pyplot as plt\n",
    "\n",
    "categories = ['MIN', 'FGM', 'FGA', 'FG_PCT', 'FG3M', 'FG3A', 'FG3_PCT', 'FTM', 'FTA',\n",
    "       'FT_PCT', 'OREB', 'DREB', 'REB', 'AST', 'STL', 'BLK', 'TOV', 'PF',\n",
    "       'PTS', 'PLUS_MINUS']\n",
    "\n",
    "stats.set_index('GAME_DATE', inplace=True)\n",
    "stats.index = pd.to_datetime(stats.index)\n",
    "\n",
    "plt.figure(figsize=(18,10))\n",
    "[plt.plot(stats.index, stats[cat], label=cat) for cat in categories]\n",
    "\n",
    "plt.xlabel('Game Date')\n",
    "plt.ylabel('Points')\n",
    "\n",
    "plt.legend()\n",
    "plt.show()"
   ]
  }
 ],
 "metadata": {
  "kernelspec": {
   "display_name": ".venv",
   "language": "python",
   "name": "python3"
  },
  "language_info": {
   "codemirror_mode": {
    "name": "ipython",
    "version": 3
   },
   "file_extension": ".py",
   "mimetype": "text/x-python",
   "name": "python",
   "nbconvert_exporter": "python",
   "pygments_lexer": "ipython3",
   "version": "3.9.4"
  }
 },
 "nbformat": 4,
 "nbformat_minor": 2
}
