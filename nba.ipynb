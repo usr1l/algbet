{
 "cells": [
  {
   "cell_type": "code",
   "execution_count": 1,
   "metadata": {},
   "outputs": [],
   "source": [
    "from app import nba_players, nba_statistics, nba_charts, nba_analysis\n",
    "import matplotlib as mpl\n",
    "import matplotlib.pyplot as plt\n",
    "import pandas as pd"
   ]
  },
  {
   "cell_type": "code",
   "execution_count": 2,
   "metadata": {},
   "outputs": [
    {
     "data": {
      "text/plain": [
       "('8 AST', 7, 20, 0.35)"
      ]
     },
     "execution_count": 2,
     "metadata": {},
     "output_type": "execute_result"
    }
   ],
   "source": [
    "stats=nba_statistics.get_player_statistics(nba_players.get_player_by_name('kyrie'), pf=4, num_games=20, win=True)\n",
    "# nba_statistics.get_player_statistics(nba_players.get_player_by_name('kyrie'), personal_fouls=4, num_games=30, win=True)\n",
    "# nba_charts.plot_game_logs(stats, cats=['PTS'])\n",
    "nba_analysis.get_cats_probability(stats, ast=8)"
   ]
  },
  {
   "cell_type": "code",
   "execution_count": null,
   "metadata": {},
   "outputs": [],
   "source": [
    "nba_analysis.get_probability_pts_reb_ast()"
   ]
  },
  {
   "cell_type": "code",
   "execution_count": null,
   "metadata": {},
   "outputs": [],
   "source": [
    "# nba_statistics.get_player_statistics(nba_players.get_player_by_name('kyrie'), personal_fouls=4, num_games=30, win=True)\n",
    "data = nba_statistics.get_player_statistics(nba_players.get_player_by_name('kyrie'), personal_fouls=4, num_games=30, win=True)"
   ]
  },
  {
   "cell_type": "code",
   "execution_count": null,
   "metadata": {},
   "outputs": [],
   "source": [
    "player_performance = data.groupby('Player_ID')[['PTS', 'FG_PCT', 'FG3_PCT', 'REB', 'AST', 'STL', 'BLK']].mean()\n",
    "# team_performance = data.groupby('MATCHUP')[['WL', 'PTS', 'FG_PCT', 'FG3_PCT', 'REB', 'AST', 'STL', 'BLK']].mean()\n",
    "# Look for trends in the data\n",
    "data['DATE'] = pd.to_datetime(data['GAME_DATE'])\n",
    "data.set_index('DATE', inplace=True)\n",
    "# data.resample('M')['PTS'].mean().plot(kind='bar')\n",
    "# plt.title('Monthly Points Average')\n",
    "# plt.xlabel('Month')\n",
    "# plt.ylabel('Points')\n",
    "# plt.show()\n",
    "\n",
    "# Calculate advanced statistics\n",
    "data['TS_PCT'] = data['PTS'] / (2 * (data['FGA'] + 0.44 * data['FTA']))\n",
    "data['PER'] = (data['PTS'] + data['REB'] + data['AST'] + data['STL'] + data['BLK'] - data['TOV']) / data['MIN']\n",
    "print(data.head())"
   ]
  }
 ],
 "metadata": {
  "kernelspec": {
   "display_name": ".venv",
   "language": "python",
   "name": "python3"
  },
  "language_info": {
   "codemirror_mode": {
    "name": "ipython",
    "version": 3
   },
   "file_extension": ".py",
   "mimetype": "text/x-python",
   "name": "python",
   "nbconvert_exporter": "python",
   "pygments_lexer": "ipython3",
   "version": "3.9.4"
  }
 },
 "nbformat": 4,
 "nbformat_minor": 2
}
